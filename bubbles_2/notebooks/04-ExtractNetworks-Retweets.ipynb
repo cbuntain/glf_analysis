{
 "cells": [
  {
   "cell_type": "code",
   "execution_count": 1,
   "metadata": {},
   "outputs": [],
   "source": [
    "%matplotlib inline"
   ]
  },
  {
   "cell_type": "code",
   "execution_count": 2,
   "metadata": {},
   "outputs": [],
   "source": [
    "import json\n",
    "\n",
    "import scipy\n",
    "import networkx as nx\n",
    "import matplotlib.pyplot as plt\n",
    "\n",
    "import sklearn.metrics.pairwise"
   ]
  },
  {
   "cell_type": "code",
   "execution_count": null,
   "metadata": {},
   "outputs": [],
   "source": []
  },
  {
   "cell_type": "code",
   "execution_count": 3,
   "metadata": {},
   "outputs": [],
   "source": [
    "def json_to_edge(json_str):\n",
    "    edges = []\n",
    "\n",
    "    tweet = json.loads(json_str)\n",
    "    this_node = (tweet[\"user\"][\"id\"], tweet[\"user\"][\"screen_name\"])\n",
    "\n",
    "    if ( \"retweeted_status\" in tweet ):\n",
    "        rt = tweet[\"retweeted_status\"]\n",
    "        edges.append(\n",
    "            (this_node, (rt[\"user\"][\"id\"], rt[\"user\"][\"screen_name\"]))\n",
    "        )\n",
    "    \n",
    "    return edges"
   ]
  },
  {
   "cell_type": "code",
   "execution_count": 4,
   "metadata": {},
   "outputs": [],
   "source": [
    "tweets_bonn = sc.textFile(\"wri/2017_community_filtered\")\n",
    "tweets_nairobi = sc.textFile(\"wri/2018_community_filtered\")"
   ]
  },
  {
   "cell_type": "code",
   "execution_count": null,
   "metadata": {},
   "outputs": [],
   "source": []
  },
  {
   "cell_type": "code",
   "execution_count": 5,
   "metadata": {},
   "outputs": [],
   "source": [
    "edge_map = {}\n",
    "\n",
    "for name, rdd in [\n",
    "    (\"2017\", tweets_bonn),\n",
    "    (\"2018\", tweets_nairobi),\n",
    "]:\n",
    "    \n",
    "    edges = rdd.flatMap(json_to_edge).map(lambda tup: (tup, 1)).reduceByKey(lambda l, r: l+r)\n",
    "    edges_collected = edges.collect()\n",
    "    \n",
    "    edge_map[name] = edges_collected\n"
   ]
  },
  {
   "cell_type": "code",
   "execution_count": null,
   "metadata": {},
   "outputs": [],
   "source": []
  },
  {
   "cell_type": "code",
   "execution_count": 6,
   "metadata": {},
   "outputs": [],
   "source": [
    "graph_map = {}\n",
    "\n",
    "for name, edges in edge_map.items():\n",
    "    g = nx.DiGraph()\n",
    "    nodes = set([tup[0][0] for tup in edges] + [tup[0][1] for tup in edges])\n",
    "    for nodes_tup in nodes:\n",
    "        g.add_node(nodes_tup[0], screen_name=nodes_tup[1])\n",
    "\n",
    "    for edge in edges:\n",
    "        weight = edge[1]\n",
    "        nodes = edge[0]\n",
    "        left = nodes[0]\n",
    "        right = nodes[1]\n",
    "\n",
    "        g.add_edge(left[0], right[0], weight=weight)\n",
    "        \n",
    "    graph_map[name] = g"
   ]
  },
  {
   "cell_type": "code",
   "execution_count": null,
   "metadata": {},
   "outputs": [],
   "source": []
  },
  {
   "cell_type": "code",
   "execution_count": 7,
   "metadata": {},
   "outputs": [],
   "source": [
    "for name, g in graph_map.items():\n",
    "    nx.write_graphml(g, \"%s_retweets.graphml\" % name)"
   ]
  },
  {
   "cell_type": "code",
   "execution_count": null,
   "metadata": {},
   "outputs": [],
   "source": []
  },
  {
   "cell_type": "code",
   "execution_count": 8,
   "metadata": {},
   "outputs": [],
   "source": [
    "graph_map = {\n",
    "    \"2017\": nx.read_graphml(\"2017_retweets.graphml\"),\n",
    "    \"2018\": nx.read_graphml(\"2018_retweets.graphml\")\n",
    "}"
   ]
  },
  {
   "cell_type": "code",
   "execution_count": null,
   "metadata": {},
   "outputs": [],
   "source": []
  },
  {
   "cell_type": "code",
   "execution_count": 31,
   "metadata": {},
   "outputs": [],
   "source": [
    "min_degree = 3"
   ]
  },
  {
   "cell_type": "code",
   "execution_count": 32,
   "metadata": {},
   "outputs": [
    {
     "name": "stdout",
     "output_type": "stream",
     "text": [
      "Node REduction: 23132 15977\n"
     ]
    }
   ],
   "source": [
    "g = graph_map[\"2018\"].to_undirected()\n",
    "subg_nodes = [k for k,v in g.degree() if v >= min_degree]\n",
    "subg = nx.subgraph(g, subg_nodes)\n",
    "\n",
    "print(\"Node REduction:\", len(g.nodes), len(subg.nodes))\n",
    "\n",
    "comms = nx.community.greedy_modularity_communities(subg)"
   ]
  },
  {
   "cell_type": "code",
   "execution_count": 33,
   "metadata": {},
   "outputs": [],
   "source": [
    "with open(\"2018_rt_comm_assigns.json\", \"w\") as out_file:\n",
    "    json.dump([list(x) for x in comms], out_file)"
   ]
  },
  {
   "cell_type": "code",
   "execution_count": null,
   "metadata": {},
   "outputs": [],
   "source": []
  },
  {
   "cell_type": "code",
   "execution_count": 34,
   "metadata": {},
   "outputs": [
    {
     "name": "stdout",
     "output_type": "stream",
     "text": [
      "Node REduction: 9441 6648\n"
     ]
    }
   ],
   "source": [
    "g = graph_map[\"2017\"].to_undirected()\n",
    "subg_nodes = [k for k,v in g.degree() if v >= min_degree]\n",
    "subg = nx.subgraph(g, subg_nodes)\n",
    "\n",
    "print(\"Node REduction:\", len(g.nodes), len(subg.nodes))\n",
    "\n",
    "comms = nx.community.greedy_modularity_communities(subg)\n",
    "\n",
    "with open(\"2017_rt_comm_assigns.json\", \"w\") as out_file:\n",
    "    json.dump([list(x) for x in comms], out_file)"
   ]
  },
  {
   "cell_type": "code",
   "execution_count": 35,
   "metadata": {},
   "outputs": [],
   "source": [
    "# sc.stop()"
   ]
  },
  {
   "cell_type": "code",
   "execution_count": null,
   "metadata": {},
   "outputs": [],
   "source": []
  },
  {
   "cell_type": "code",
   "execution_count": 36,
   "metadata": {},
   "outputs": [],
   "source": [
    "comms_map = {}\n",
    "\n",
    "with open(\"2017_rt_comm_assigns.json\", \"r\") as in_file:\n",
    "    comms_map[\"2017\"] = json.load(in_file)\n",
    "with open(\"2018_rt_comm_assigns.json\", \"r\") as in_file:\n",
    "    comms_map[\"2018\"] = json.load(in_file)"
   ]
  },
  {
   "cell_type": "code",
   "execution_count": null,
   "metadata": {},
   "outputs": [],
   "source": []
  },
  {
   "cell_type": "code",
   "execution_count": 37,
   "metadata": {},
   "outputs": [],
   "source": [
    "node_id_to_name = {}\n",
    "for name, graph in graph_map.items():\n",
    "    for node, node_data in graph.nodes(data=True):\n",
    "        node_id_to_name[node] = node_data[\"screen_name\"]"
   ]
  },
  {
   "cell_type": "code",
   "execution_count": null,
   "metadata": {},
   "outputs": [],
   "source": []
  },
  {
   "cell_type": "code",
   "execution_count": 38,
   "metadata": {},
   "outputs": [],
   "source": [
    "node_id_set = set()\n",
    "for name, comms in comms_map.items():\n",
    "    for comm in comms:\n",
    "        for u in comm:\n",
    "            node_id_set.add(u)\n",
    "            \n",
    "node_id_idx = {uid:idx for idx, uid in enumerate(node_id_set)}"
   ]
  },
  {
   "cell_type": "code",
   "execution_count": 39,
   "metadata": {},
   "outputs": [
    {
     "data": {
      "text/plain": [
       "20479"
      ]
     },
     "execution_count": 39,
     "metadata": {},
     "output_type": "execute_result"
    }
   ],
   "source": [
    "len(node_id_idx)"
   ]
  },
  {
   "cell_type": "code",
   "execution_count": null,
   "metadata": {},
   "outputs": [],
   "source": []
  },
  {
   "cell_type": "code",
   "execution_count": 50,
   "metadata": {
    "scrolled": false
   },
   "outputs": [
    {
     "name": "stdout",
     "output_type": "stream",
     "text": [
      "Graph: 2017\n",
      "Comm: 0 Comm Size: 3159\n",
      "\t BiancaJagger\n",
      "\t GlobalLF\n",
      "\t CIFOR\n",
      "\t restoreforward\n",
      "\t FAOForestry\n",
      "\t mongabay\n",
      "\t rbw66\n",
      "\t RoathBrookTrees\n",
      "\t FTA_CGIAR\n",
      "\t nspugh\n",
      "\t Connect4Climate\n",
      "\t FAO\n",
      "\t raringtoread\n",
      "\t streettreeart\n",
      "\t WorldResources\n",
      "\t TCHSunderland\n",
      "\t UNBiodiversity\n",
      "\t BioversityInt\n",
      "\t seasonalight\n",
      "\t CIFOR_bosques\n",
      "Comm: 1 Comm Size: 2779\n",
      "\t UNFCCC\n",
      "\t UNEnvironment\n",
      "\t WorldBank\n",
      "\t PEspinosaC\n",
      "\t ErikSolheim\n",
      "\t AfrozShah1\n",
      "\t KGeorgieva\n",
      "\t JimYongKim\n",
      "\t WBG_Climate\n",
      "\t EmmanuelMacron\n",
      "\t WHO\n",
      "\t antonioguterres\n",
      "\t LewisPugh\n",
      "\t GlobalGoalsUN\n",
      "\t UN\n",
      "\t ibrahimthiaw\n",
      "\t BNPParibas\n",
      "\t COP23\n",
      "\t UNDPClimate\n",
      "\t volvooceanrace\n",
      "Comm: 2 Comm Size: 434\n",
      "\t SadhguruJV\n",
      "\t ishafoundation\n",
      "\t dw_environment\n",
      "\t IshaTamil\n",
      "\t jmollins\n",
      "\t rallyforrivers\n",
      "\t vishwamTOI\n",
      "\t inner_elation\n",
      "\t Arindam_Basu\n",
      "\t IshaUSA\n",
      "\t abi_tweeting\n",
      "\t Jeeva04\n",
      "\t RohitJain700\n",
      "\t NiranjanAjit\n",
      "\t nanowellbeing\n",
      "\t tree_adoptionug\n",
      "\t EllenGoddard1\n",
      "\t RaviiRaghu\n",
      "\t bigfundu\n",
      "\t IshaAndrewJ\n",
      "Comm: 3 Comm Size: 135\n",
      "\t ILuvCO2\n",
      "\t GillesnFio\n",
      "\t miked194765\n",
      "\t JWSpry\n",
      "\t climatechangede\n",
      "\t FriendsOScience\n",
      "\t climatefrauds\n",
      "\t Mark_Fraser_\n",
      "\t drwaheeduddin\n",
      "\t scotpolitik\n",
      "\t FredFoxyGuy\n",
      "\t ronalan908\n",
      "\t lawiegers\n",
      "\t iMarcusCicero\n",
      "\t luisbaram\n",
      "\t Gold__Platinum\n",
      "\t SapientHetero\n",
      "\t CohodasHoward\n",
      "\t HarriLuuppala\n",
      "\t 1_TMF_\n",
      "Graph: 2018\n",
      "Comm: 0 Comm Size: 9157\n",
      "\t UNFCCC\n",
      "\t UNEnvironment\n",
      "\t ErikSolheim\n",
      "\t PEspinosaC\n",
      "\t GlobalLF\n",
      "\t antonioguterres\n",
      "\t JoyceMsuya\n",
      "\t UN\n",
      "\t RichardMunang\n",
      "\t RnfrstAlliance\n",
      "\t IUCN\n",
      "\t LewisPugh\n",
      "\t johnhay8888\n",
      "\t restoreforward\n",
      "\t mongabay\n",
      "\t WorldResources\n",
      "\t WWF\n",
      "\t theGEF\n",
      "\t WWFForestCarbon\n",
      "\t andersen_inger\n",
      "Comm: 1 Comm Size: 5036\n",
      "\t BBCAfrica\n",
      "\t AfDB_Group\n",
      "\t WorldBank\n",
      "\t ReutersAfrica\n",
      "\t BBCMonitoring\n",
      "\t burke_jason\n",
      "\t WandileSihlobo\n",
      "\t USAID\n",
      "\t ITCnews\n",
      "\t Backarray\n",
      "\t forbesafrica\n",
      "\t TRF_Stories\n",
      "\t WorldBankAfrica\n",
      "\t bbcworldservice\n",
      "\t willintune\n",
      "\t bbcstories\n",
      "\t BBCOS\n",
      "\t joebrock2\n",
      "\t EngnrDan\n",
      "\t FarmersUnitedSA\n",
      "Comm: 2 Comm Size: 1248\n",
      "\t DanRather\n",
      "\t EdKrassen\n",
      "\t MichaelAvenatti\n",
      "\t jeffrey_ventre\n",
      "\t savebutterflies\n",
      "\t SenBillNelson\n",
      "\t joqween\n",
      "\t WoodlandDave\n",
      "\t MooreCharitable\n",
      "\t Cruellaisdevine\n",
      "\t CarolineLucas\n",
      "\t OpWolverines\n",
      "\t squinancywort1\n",
      "\t splcenter\n",
      "\t AliDriverUK\n",
      "\t DavidJollyFL\n",
      "\t SaveAnimals\n",
      "\t RobRobbEdwards\n",
      "\t LibriRitual\n",
      "\t NicolaSturgeon\n",
      "Comm: 3 Comm Size: 193\n",
      "\t PTIofficial\n",
      "\t KoblerinPAK\n",
      "\t btap2015\n",
      "\t KPKUpdates\n",
      "\t Plant4Pak\n",
      "\t laltaintabahde\n",
      "\t fahdhumayun\n",
      "\t SShahidrehan\n",
      "\t FarooqHKhan\n",
      "\t staoir\n",
      "\t GIZPakistan\n",
      "\t MNajeebHaroon\n",
      "\t laurie_vasily\n",
      "\t PTIKPOfficial\n",
      "\t PTIOMardan\n",
      "\t RadioPakistan\n",
      "\t PTIOfficialBWP\n",
      "\t anikasleem\n",
      "\t KKhattakk\n",
      "\t MaliQSara\n"
     ]
    }
   ],
   "source": [
    "comms_matrics = {}\n",
    "for name, comms in comms_map.items():\n",
    "    print(\"Graph:\", name)\n",
    "    data = []\n",
    "    coords = []\n",
    "    \n",
    "    g = graph_map[name]\n",
    "    row = 0\n",
    "    for comm in comms:\n",
    "        if ( len(comm) < 100 ):\n",
    "            continue\n",
    "            \n",
    "        print(\"Comm:\", row, \"Comm Size:\", len(comm))\n",
    "            \n",
    "        subg = nx.subgraph(g, comm)\n",
    "        \n",
    "        page_rank = nx.pagerank(subg)\n",
    "        for u, score in page_rank.items():\n",
    "            col = node_id_idx[u]\n",
    "            coords.append((row, col))\n",
    "            data.append(score)\n",
    "\n",
    "        top_ = [(x, page_rank[x]) \n",
    "                for x in sorted(page_rank, key=page_rank.get, reverse=True)[:20]]\n",
    "        for x in [node_id_to_name[x] for x, r in top_]:\n",
    "            print(\"\\t\", x)\n",
    "            \n",
    "        row += 1\n",
    "        \n",
    "    mat = scipy.sparse.csr_matrix(\n",
    "        (data, ([x[0] for x in coords], [x[1] for x in coords])),\n",
    "        shape=(row, len(node_id_idx))\n",
    "    )\n",
    "    comms_matrics[name] = mat"
   ]
  },
  {
   "cell_type": "code",
   "execution_count": null,
   "metadata": {},
   "outputs": [],
   "source": []
  },
  {
   "cell_type": "code",
   "execution_count": 41,
   "metadata": {},
   "outputs": [
    {
     "data": {
      "text/plain": [
       "array([[  1.57749836e-01,   3.06791278e-03,   1.00704583e-03,\n",
       "          0.00000000e+00],\n",
       "       [  7.73882573e-01,   1.38327826e-01,   1.61239287e-04,\n",
       "          0.00000000e+00],\n",
       "       [  1.27867662e-03,   0.00000000e+00,   0.00000000e+00,\n",
       "          0.00000000e+00],\n",
       "       [  1.48516835e-05,   0.00000000e+00,   0.00000000e+00,\n",
       "          0.00000000e+00]])"
      ]
     },
     "execution_count": 41,
     "metadata": {},
     "output_type": "execute_result"
    }
   ],
   "source": [
    "sim_mat = sklearn.metrics.pairwise.cosine_similarity(\n",
    "    comms_matrics[\"2017\"], comms_matrics[\"2018\"]\n",
    ")\n",
    "\n",
    "sim_mat"
   ]
  },
  {
   "cell_type": "code",
   "execution_count": 43,
   "metadata": {},
   "outputs": [
    {
     "data": {
      "image/png": "[encoded data removed]",
      "text/plain": [
       "<matplotlib.figure.Figure at 0x7efcd6e036a0>"
      ]
     },
     "metadata": {},
     "output_type": "display_data"
    }
   ],
   "source": [
    "plt.imshow(sim_mat)\n",
    "\n",
    "plt.show()"
   ]
  },
  {
   "cell_type": "code",
   "execution_count": 52,
   "metadata": {},
   "outputs": [
    {
     "data": {
      "image/png": "[encoded data removed]",
      "text/plain": [
       "<matplotlib.figure.Figure at 0x7efcd9db47b8>"
      ]
     },
     "metadata": {},
     "output_type": "display_data"
    }
   ],
   "source": [
    "row_labels = [\"Restoration Orgs\", \"UN Orgs\", \"Rally for Rivers\", \"Conspiracy\"]\n",
    "col_labels = [\"UN Orgs\", \"Afrocentric Orgs\", \"US Activists\", \"Pakistani Gov\"]\n",
    "\n",
    "plt.imshow(sim_mat)\n",
    "\n",
    "plt.yticks(range(len(row_labels)), row_labels)\n",
    "plt.xticks(range(len(col_labels)), col_labels, rotation=45)\n",
    "\n",
    "plt.xlabel(\"GLF Nairobi Communities\")\n",
    "plt.ylabel(\"GLF Bonn Communities\")\n",
    "\n",
    "plt.show()"
   ]
  },
  {
   "cell_type": "code",
   "execution_count": null,
   "metadata": {},
   "outputs": [],
   "source": []
  }
 ],
 "metadata": {
  "kernelspec": {
   "display_name": "PySpark",
   "language": "python",
   "name": "pyspark"
  },
  "language_info": {
   "codemirror_mode": {
    "name": "ipython",
    "version": 3
   },
   "file_extension": ".py",
   "mimetype": "text/x-python",
   "name": "python",
   "nbconvert_exporter": "python",
   "pygments_lexer": "ipython3",
   "version": "3.6.0"
  }
 },
 "nbformat": 4,
 "nbformat_minor": 2
}
